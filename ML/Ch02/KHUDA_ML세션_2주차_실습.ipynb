{
  "nbformat": 4,
  "nbformat_minor": 0,
  "metadata": {
    "colab": {
      "provenance": []
    },
    "kernelspec": {
      "name": "python3",
      "display_name": "Python 3"
    },
    "language_info": {
      "name": "python"
    }
  },
  "cells": [
    {
      "cell_type": "markdown",
      "source": [
        "## California Housing 시각화"
      ],
      "metadata": {
        "id": "VWjBYBczhgp5"
      }
    },
    {
      "cell_type": "code",
      "execution_count": 28,
      "metadata": {
        "colab": {
          "base_uri": "https://localhost:8080/"
        },
        "id": "8-4W2yefyWx_",
        "outputId": "cbf2a85e-8afa-4f4e-e5d4-a840afd07305"
      },
      "outputs": [
        {
          "output_type": "execute_result",
          "data": {
            "text/plain": [
              "{'data': array([[   8.3252    ,   41.        ,    6.98412698, ...,    2.55555556,\n",
              "           37.88      , -122.23      ],\n",
              "        [   8.3014    ,   21.        ,    6.23813708, ...,    2.10984183,\n",
              "           37.86      , -122.22      ],\n",
              "        [   7.2574    ,   52.        ,    8.28813559, ...,    2.80225989,\n",
              "           37.85      , -122.24      ],\n",
              "        ...,\n",
              "        [   1.7       ,   17.        ,    5.20554273, ...,    2.3256351 ,\n",
              "           39.43      , -121.22      ],\n",
              "        [   1.8672    ,   18.        ,    5.32951289, ...,    2.12320917,\n",
              "           39.43      , -121.32      ],\n",
              "        [   2.3886    ,   16.        ,    5.25471698, ...,    2.61698113,\n",
              "           39.37      , -121.24      ]]),\n",
              " 'target': array([4.526, 3.585, 3.521, ..., 0.923, 0.847, 0.894]),\n",
              " 'frame': None,\n",
              " 'target_names': ['MedHouseVal'],\n",
              " 'feature_names': ['MedInc',\n",
              "  'HouseAge',\n",
              "  'AveRooms',\n",
              "  'AveBedrms',\n",
              "  'Population',\n",
              "  'AveOccup',\n",
              "  'Latitude',\n",
              "  'Longitude'],\n",
              " 'DESCR': '.. _california_housing_dataset:\\n\\nCalifornia Housing dataset\\n--------------------------\\n\\n**Data Set Characteristics:**\\n\\n    :Number of Instances: 20640\\n\\n    :Number of Attributes: 8 numeric, predictive attributes and the target\\n\\n    :Attribute Information:\\n        - MedInc        median income in block group\\n        - HouseAge      median house age in block group\\n        - AveRooms      average number of rooms per household\\n        - AveBedrms     average number of bedrooms per household\\n        - Population    block group population\\n        - AveOccup      average number of household members\\n        - Latitude      block group latitude\\n        - Longitude     block group longitude\\n\\n    :Missing Attribute Values: None\\n\\nThis dataset was obtained from the StatLib repository.\\nhttps://www.dcc.fc.up.pt/~ltorgo/Regression/cal_housing.html\\n\\nThe target variable is the median house value for California districts,\\nexpressed in hundreds of thousands of dollars ($100,000).\\n\\nThis dataset was derived from the 1990 U.S. census, using one row per census\\nblock group. A block group is the smallest geographical unit for which the U.S.\\nCensus Bureau publishes sample data (a block group typically has a population\\nof 600 to 3,000 people).\\n\\nA household is a group of people residing within a home. Since the average\\nnumber of rooms and bedrooms in this dataset are provided per household, these\\ncolumns may take surprisingly large values for block groups with few households\\nand many empty houses, such as vacation resorts.\\n\\nIt can be downloaded/loaded using the\\n:func:`sklearn.datasets.fetch_california_housing` function.\\n\\n.. topic:: References\\n\\n    - Pace, R. Kelley and Ronald Barry, Sparse Spatial Autoregressions,\\n      Statistics and Probability Letters, 33 (1997) 291-297\\n'}"
            ]
          },
          "metadata": {},
          "execution_count": 28
        }
      ],
      "source": [
        "# 유방암 데이터 불러오기\n",
        "from sklearn import datasets\n",
        "california = datasets.fetch_california_housing()\n",
        "california"
      ]
    },
    {
      "cell_type": "code",
      "source": [
        "data = california['data'] # 입력\n",
        "target =  california['target'] # 타깃"
      ],
      "metadata": {
        "id": "Csc-rXzez__M"
      },
      "execution_count": 24,
      "outputs": []
    },
    {
      "cell_type": "markdown",
      "source": [
        "## 데이터셋을 나누기"
      ],
      "metadata": {
        "id": "7Xno16V3iFnO"
      }
    },
    {
      "cell_type": "code",
      "source": [
        "# 전체 데이터셋 훈련 세트와 테스트 세트로 나누기\n",
        "from sklearn.model_selection import train_test_split\n",
        "\n",
        "X_train, X_test, y_train, y_test = # your code"
      ],
      "metadata": {
        "id": "wQ-7fuES28js"
      },
      "execution_count": 29,
      "outputs": []
    },
    {
      "cell_type": "markdown",
      "source": [
        "# 1. k-최근접 이웃 회귀"
      ],
      "metadata": {
        "id": "10TugRlJj4JG"
      }
    },
    {
      "cell_type": "code",
      "source": [
        "from sklearn.neighbors import KNeighborsRegressor\n",
        "knr = KNeighborsRegressor()\n",
        "\n",
        "knr.fit(X_train, y_train)\n",
        "print(knr.score(\"your code\"), knr.score(\"your code\"))"
      ],
      "metadata": {
        "colab": {
          "base_uri": "https://localhost:8080/"
        },
        "id": "7Rn4v__KmwV6",
        "outputId": "4555a1c2-13d4-4799-c2ca-a5d3b86a08fa"
      },
      "execution_count": 44,
      "outputs": [
        {
          "output_type": "stream",
          "name": "stdout",
          "text": [
            "0.44619663323537884 0.14434206676911643\n"
          ]
        }
      ]
    },
    {
      "cell_type": "code",
      "source": [
        "from sklearn.metrics import mean_absolute_error\n",
        "# 테스트 세트에 대한 예측\n",
        "y_pred = # your code\n",
        "\n",
        "# 테스트 세트에 대한 평균 절댓값 오차를 계산\n",
        "mae = mean_absolute_error(\"your code\")\n",
        "mae"
      ],
      "metadata": {
        "colab": {
          "base_uri": "https://localhost:8080/"
        },
        "id": "KT-zimAEnPic",
        "outputId": "2e6e6e8b-1bde-4a60-f79a-ef54cc8adc83"
      },
      "execution_count": 45,
      "outputs": [
        {
          "output_type": "execute_result",
          "data": {
            "text/plain": [
              "0.8188566406976745"
            ]
          },
          "metadata": {},
          "execution_count": 45
        }
      ]
    },
    {
      "cell_type": "code",
      "source": [
        "knr.n_neighbors = # 정수를 놓으세요\n",
        "\n",
        "# your code: 훈련 세트를 이용하여 knr 모델을 학습시키기\n",
        "# your code: 훈련 세트와 테스트 세트에 평가하고 출력해보세요"
      ],
      "metadata": {
        "colab": {
          "base_uri": "https://localhost:8080/"
        },
        "id": "ADLuMYUinjF_",
        "outputId": "b8eafca6-632e-491c-e734-bf1a4c0be07e"
      },
      "execution_count": 54,
      "outputs": [
        {
          "output_type": "stream",
          "name": "stdout",
          "text": [
            "0.37550938714455406 0.15467069371590192\n"
          ]
        }
      ]
    },
    {
      "cell_type": "code",
      "source": [
        "# 테스트 세트에 대한 예측\n",
        "y_pred = # your code\n",
        "\n",
        "# 테스트 세트에 대한 평균 절댓값 오차를 계산\n",
        "mae = # your code\n",
        "mae"
      ],
      "metadata": {
        "colab": {
          "base_uri": "https://localhost:8080/"
        },
        "id": "zkkY3cYYn_e2",
        "outputId": "a7c88b2a-e951-4eac-dbe1-48e108d007e6"
      },
      "execution_count": 55,
      "outputs": [
        {
          "output_type": "execute_result",
          "data": {
            "text/plain": [
              "0.818708092192691"
            ]
          },
          "metadata": {},
          "execution_count": 55
        }
      ]
    },
    {
      "cell_type": "markdown",
      "source": [
        "# 2. 선형 회귀"
      ],
      "metadata": {
        "id": "sCwkHSMTj9my"
      }
    },
    {
      "cell_type": "markdown",
      "source": [
        "## 1. 선형 회귀"
      ],
      "metadata": {
        "id": "v7ZdcG-eiLHU"
      }
    },
    {
      "cell_type": "code",
      "source": [
        "# 훈련 세트를 이용하여 학습 및 평가\n",
        "from sklearn.linear_model import LinearRegression\n",
        "lr = LinearRegression() # 모델 생성\n",
        "\n",
        "lr.fit(X_train, y_train) # 모델 학습\n",
        "# 훈련 세트와 테스트 세트에서 모델을 평가해보세요\n",
        "print(\"your code\", \"your code\")"
      ],
      "metadata": {
        "colab": {
          "base_uri": "https://localhost:8080/"
        },
        "id": "bZIvI9aSPETH",
        "outputId": "01ea92ec-8468-40e8-b41b-98bd3f05ccf3"
      },
      "execution_count": 30,
      "outputs": [
        {
          "output_type": "stream",
          "name": "stdout",
          "text": [
            "0.609873031052925 0.5910509795491357\n"
          ]
        }
      ]
    },
    {
      "cell_type": "markdown",
      "source": [
        "## 2. 다항 회귀"
      ],
      "metadata": {
        "id": "no3DiGjJcDGS"
      }
    },
    {
      "cell_type": "markdown",
      "source": [
        "### 1. 데이터 전처리"
      ],
      "metadata": {
        "id": "KjeNZwb5iXdk"
      }
    },
    {
      "cell_type": "code",
      "source": [
        "# 다항 회귀 변환기 적용하기\n",
        "from sklearn.preprocessing import PolynomialFeatures\n",
        "poly = PolynomialFeatures(include_bias=False)\n",
        "\n",
        "poly.fit(X_train) # X_train 값에 맞게 poly를 학습시키기\n",
        "X_train_poly = poly.transform(X_train) # 훈련세터에서 poly를 적용\n",
        "X_test_poly = # your code"
      ],
      "metadata": {
        "id": "cMhX4j2TPa11"
      },
      "execution_count": 31,
      "outputs": []
    },
    {
      "cell_type": "code",
      "source": [
        "# poly처럼 ss를 학습해 봅시다\n",
        "# 1. X_train_poly 값에 맞게 ss를 학습시켜야 합니다\n",
        "# 2 & 3. 학습한 ss가 훈련 세트와 테스트 세트에 적용\n",
        "from sklearn.preprocessing import StandardScaler\n",
        "ss = StandardScaler()\n",
        "\n",
        "# your code"
      ],
      "metadata": {
        "id": "-xgB2COwQBUy"
      },
      "execution_count": 32,
      "outputs": []
    },
    {
      "cell_type": "markdown",
      "source": [
        "### 2. 선형 회귀를 이용하여 학습하기"
      ],
      "metadata": {
        "id": "m3sTSwu0ia5g"
      }
    },
    {
      "cell_type": "code",
      "source": [
        "lr = LinearRegression()\n",
        "# your code"
      ],
      "metadata": {
        "colab": {
          "base_uri": "https://localhost:8080/"
        },
        "id": "I6SNlWEfQXf0",
        "outputId": "f6e4c497-acd7-45ac-d042-31f3ad0c2b7e"
      },
      "execution_count": 33,
      "outputs": [
        {
          "output_type": "stream",
          "name": "stdout",
          "text": [
            "0.6829089327528393 0.6563005880757534\n"
          ]
        }
      ]
    },
    {
      "cell_type": "markdown",
      "source": [
        "## 3. 규제"
      ],
      "metadata": {
        "id": "uLJfvaGZimOf"
      }
    },
    {
      "cell_type": "markdown",
      "source": [
        "### 1. 릿지"
      ],
      "metadata": {
        "id": "b7iF-byyiozf"
      }
    },
    {
      "cell_type": "code",
      "source": [
        "# 최적의 학습률 (또는 alpha) 찾기\n",
        "train_score = []\n",
        "test_score = []\n",
        "\n",
        "from sklearn.linear_model import Ridge\n",
        "alpha_list = [0.001, 0.01, 0.1, 1, 10, 100]\n",
        "for alpha in alpha_list:\n",
        "  ridge = Ridge(alpha=alpha)# your code\n",
        "  # your code\n",
        "  train_score.append(\"your code\") # 훈련 점수를 추가하기\n",
        "  test_score.append(\"your code\") # 테스트 점수를 추가하기"
      ],
      "metadata": {
        "id": "PcK4847gQ8s9"
      },
      "execution_count": 35,
      "outputs": []
    },
    {
      "cell_type": "code",
      "source": [
        "import matplotlib.pyplot as plt\n",
        "import numpy as np\n",
        "\n",
        "# 최적 학습률을 찾기 위하여 그래프를 그려보기\n",
        "plt.plot(np.log10(\"your code\"), \"your code\")\n",
        "plt.plot(np.log10(\"your code\"), \"your code\")\n",
        "\n",
        "plt.show()"
      ],
      "metadata": {
        "colab": {
          "base_uri": "https://localhost:8080/",
          "height": 430
        },
        "id": "YC9lGWZIR63Z",
        "outputId": "c36c9ec2-51cc-4cd1-f83b-b8421beb4831"
      },
      "execution_count": 36,
      "outputs": [
        {
          "output_type": "display_data",
          "data": {
            "text/plain": [
              "<Figure size 640x480 with 1 Axes>"
            ],
            "image/png": "[encoded data removed]"
          },
          "metadata": {}
        }
      ]
    },
    {
      "cell_type": "code",
      "source": [
        "# 최적의 학습률을 적용하여 릿지 모델을 학습해 보세요\n",
        "ridge = # your code\n",
        "# your code: 훈련 세트와 테스트 세트에 평가하고 출력해보세요"
      ],
      "metadata": {
        "colab": {
          "base_uri": "https://localhost:8080/"
        },
        "id": "58GFg0YYR9w0",
        "outputId": "04095ad0-d283-4875-cbf6-3365364224ae"
      },
      "execution_count": 38,
      "outputs": [
        {
          "output_type": "stream",
          "name": "stdout",
          "text": [
            "0.6822633801286888 0.6762645250674351\n"
          ]
        }
      ]
    },
    {
      "cell_type": "markdown",
      "source": [
        "### 2. 라쏘"
      ],
      "metadata": {
        "id": "N3bxax1HisOf"
      }
    },
    {
      "cell_type": "code",
      "source": [
        "# 최적의 학습률 (또는 alpha) 찾기\n",
        "train_score = []\n",
        "test_score = []\n",
        "\n",
        "from sklearn.linear_model import Lasso\n",
        "alpha_list = [0.001, 0.01, 0.1, 1, 10, 100]\n",
        "for alpha in alpha_list:\n",
        "  # 라쏘 모델을 학습해보세요\n",
        "  lasso = # your code\n",
        "  # your code: train_score와 test_score에 훈련 세트와 테스트 세트에 대한 점수를 놓으세요"
      ],
      "metadata": {
        "id": "VM35kLZZSTg7"
      },
      "execution_count": 41,
      "outputs": []
    },
    {
      "cell_type": "code",
      "source": [
        "# 최적 학습률을 찾기 위하여 그래프를 그려보세요\n",
        "# your code\n",
        "\n",
        "plt.show()"
      ],
      "metadata": {
        "colab": {
          "base_uri": "https://localhost:8080/",
          "height": 430
        },
        "outputId": "a9444bf0-45f4-46d1-dcfe-7bf1461acb0c",
        "id": "H9rXhfU0STg8"
      },
      "execution_count": 42,
      "outputs": [
        {
          "output_type": "display_data",
          "data": {
            "text/plain": [
              "<Figure size 640x480 with 1 Axes>"
            ],
            "image/png": "[encoded data removed]"
          },
          "metadata": {}
        }
      ]
    },
    {
      "cell_type": "code",
      "source": [
        "# 최적의 학습률을 적용하여 라쏘 모델을 학습해보세요\n",
        "# your code"
      ],
      "metadata": {
        "colab": {
          "base_uri": "https://localhost:8080/"
        },
        "id": "vM8RgfT7SfSz",
        "outputId": "038e5bce-f8ec-44a2-83c9-9a9e2ac93ab7"
      },
      "execution_count": 43,
      "outputs": [
        {
          "output_type": "stream",
          "name": "stdout",
          "text": [
            "0.6828957432543035 0.6600566073921608\n"
          ]
        }
      ]
    }
  ]
}