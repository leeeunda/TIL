{
  "cells": [
    {
      "cell_type": "markdown",
      "metadata": {
        "id": "qj1tpAMxuUp_"
      },
      "source": [
        "## 0. 목차"
      ]
    },
    {
      "cell_type": "markdown",
      "metadata": {
        "id": "I4cji5F607TH"
      },
      "source": [
        "1. k-최근접 이웃 분류기로 확률 예측하기\n",
        "2. 로지스틱 회귀로 이진 분류 수행하기\n",
        "3. 로지스틱 회귀로 다중 분류 수행하기\n",
        "4. 소프트맥스 함수로 다중 분류 확률 계산하기\n",
        "4. 확률적 경사 하강법"
      ]
    },
    {
      "cell_type": "markdown",
      "metadata": {
        "id": "cNUJAY-i2ARs"
      },
      "source": [
        "**데이터 준비**"
      ]
    },
    {
      "cell_type": "code",
      "execution_count": 2,
      "metadata": {
        "id": "yEbaYKzetzlm"
      },
      "outputs": [
        {
          "ename": "ModuleNotFoundError",
          "evalue": "No module named 'sklearn'",
          "output_type": "error",
          "traceback": [
            "\u001b[0;31m---------------------------------------------------------------------------\u001b[0m",
            "\u001b[0;31mModuleNotFoundError\u001b[0m                       Traceback (most recent call last)",
            "\u001b[1;32m/Users/leeeunda/Desktop/CODINg/KHUDA/KHUDA_ML_세션_3주차.ipynb 셀 4\u001b[0m line \u001b[0;36m1\n\u001b[0;32m----> <a href='vscode-notebook-cell:/Users/leeeunda/Desktop/CODINg/KHUDA/KHUDA_ML_%E1%84%89%E1%85%A6%E1%84%89%E1%85%A7%E1%86%AB_3%E1%84%8C%E1%85%AE%E1%84%8E%E1%85%A1.ipynb#W3sZmlsZQ%3D%3D?line=0'>1</a>\u001b[0m \u001b[39mfrom\u001b[39;00m \u001b[39msklearn\u001b[39;00m \u001b[39mimport\u001b[39;00m datasets\n\u001b[1;32m      <a href='vscode-notebook-cell:/Users/leeeunda/Desktop/CODINg/KHUDA/KHUDA_ML_%E1%84%89%E1%85%A6%E1%84%89%E1%85%A7%E1%86%AB_3%E1%84%8C%E1%85%AE%E1%84%8E%E1%85%A1.ipynb#W3sZmlsZQ%3D%3D?line=1'>2</a>\u001b[0m \u001b[39mfrom\u001b[39;00m \u001b[39msklearn\u001b[39;00m\u001b[39m.\u001b[39;00m\u001b[39mmodel_selection\u001b[39;00m \u001b[39mimport\u001b[39;00m train_test_split\n\u001b[1;32m      <a href='vscode-notebook-cell:/Users/leeeunda/Desktop/CODINg/KHUDA/KHUDA_ML_%E1%84%89%E1%85%A6%E1%84%89%E1%85%A7%E1%86%AB_3%E1%84%8C%E1%85%AE%E1%84%8E%E1%85%A1.ipynb#W3sZmlsZQ%3D%3D?line=2'>3</a>\u001b[0m \u001b[39mfrom\u001b[39;00m \u001b[39msklearn\u001b[39;00m\u001b[39m.\u001b[39;00m\u001b[39mpreprocessing\u001b[39;00m \u001b[39mimport\u001b[39;00m StandardScaler\n",
            "\u001b[0;31mModuleNotFoundError\u001b[0m: No module named 'sklearn'"
          ]
        }
      ],
      "source": [
        "from sklearn import datasets\n",
        "from sklearn.model_selection import train_test_split\n",
        "from sklearn.preprocessing import StandardScaler\n",
        "from sklearn.linear_model import SGDClassifier\n",
        "from sklearn.linear_model import LogisticRegression\n",
        "from scipy.special import softmax\n",
        "import matplotlib.pyplot as plt\n",
        "import pandas as pd\n",
        "import numpy as np"
      ]
    },
    {
      "cell_type": "code",
      "execution_count": null,
      "metadata": {
        "colab": {
          "base_uri": "https://localhost:8080/",
          "height": 223
        },
        "id": "KDtGHE8xuEyr",
        "outputId": "d0554127-5b35-4b8a-f2aa-e29acf2f665f"
      },
      "outputs": [
        {
          "data": {
            "text/html": [
              "\n",
              "  <div id=\"df-dece0a33-2182-442e-95f1-e527e87963a8\" class=\"colab-df-container\">\n",
              "    <div>\n",
              "<style scoped>\n",
              "    .dataframe tbody tr th:only-of-type {\n",
              "        vertical-align: middle;\n",
              "    }\n",
              "\n",
              "    .dataframe tbody tr th {\n",
              "        vertical-align: top;\n",
              "    }\n",
              "\n",
              "    .dataframe thead th {\n",
              "        text-align: right;\n",
              "    }\n",
              "</style>\n",
              "<table border=\"1\" class=\"dataframe\">\n",
              "  <thead>\n",
              "    <tr style=\"text-align: right;\">\n",
              "      <th></th>\n",
              "      <th>sepal length (cm)</th>\n",
              "      <th>sepal width (cm)</th>\n",
              "      <th>petal length (cm)</th>\n",
              "      <th>petal width (cm)</th>\n",
              "    </tr>\n",
              "  </thead>\n",
              "  <tbody>\n",
              "    <tr>\n",
              "      <th>0</th>\n",
              "      <td>5.1</td>\n",
              "      <td>3.5</td>\n",
              "      <td>1.4</td>\n",
              "      <td>0.2</td>\n",
              "    </tr>\n",
              "    <tr>\n",
              "      <th>1</th>\n",
              "      <td>4.9</td>\n",
              "      <td>3.0</td>\n",
              "      <td>1.4</td>\n",
              "      <td>0.2</td>\n",
              "    </tr>\n",
              "    <tr>\n",
              "      <th>2</th>\n",
              "      <td>4.7</td>\n",
              "      <td>3.2</td>\n",
              "      <td>1.3</td>\n",
              "      <td>0.2</td>\n",
              "    </tr>\n",
              "    <tr>\n",
              "      <th>3</th>\n",
              "      <td>4.6</td>\n",
              "      <td>3.1</td>\n",
              "      <td>1.5</td>\n",
              "      <td>0.2</td>\n",
              "    </tr>\n",
              "    <tr>\n",
              "      <th>4</th>\n",
              "      <td>5.0</td>\n",
              "      <td>3.6</td>\n",
              "      <td>1.4</td>\n",
              "      <td>0.2</td>\n",
              "    </tr>\n",
              "  </tbody>\n",
              "</table>\n",
              "</div>\n",
              "    <div class=\"colab-df-buttons\">\n",
              "\n",
              "  <div class=\"colab-df-container\">\n",
              "    <button class=\"colab-df-convert\" onclick=\"convertToInteractive('df-dece0a33-2182-442e-95f1-e527e87963a8')\"\n",
              "            title=\"Convert this dataframe to an interactive table.\"\n",
              "            style=\"display:none;\">\n",
              "\n",
              "  <svg xmlns=\"http://www.w3.org/2000/svg\" height=\"24px\" viewBox=\"0 -960 960 960\">\n",
              "    <path d=\"M120-120v-720h720v720H120Zm60-500h600v-160H180v160Zm220 220h160v-160H400v160Zm0 220h160v-160H400v160ZM180-400h160v-160H180v160Zm440 0h160v-160H620v160ZM180-180h160v-160H180v160Zm440 0h160v-160H620v160Z\"/>\n",
              "  </svg>\n",
              "    </button>\n",
              "\n",
              "  <style>\n",
              "    .colab-df-container {\n",
              "      display:flex;\n",
              "      gap: 12px;\n",
              "    }\n",
              "\n",
              "    .colab-df-convert {\n",
              "      background-color: #E8F0FE;\n",
              "      border: none;\n",
              "      border-radius: 50%;\n",
              "      cursor: pointer;\n",
              "      display: none;\n",
              "      fill: #1967D2;\n",
              "      height: 32px;\n",
              "      padding: 0 0 0 0;\n",
              "      width: 32px;\n",
              "    }\n",
              "\n",
              "    .colab-df-convert:hover {\n",
              "      background-color: #E2EBFA;\n",
              "      box-shadow: 0px 1px 2px rgba(60, 64, 67, 0.3), 0px 1px 3px 1px rgba(60, 64, 67, 0.15);\n",
              "      fill: #174EA6;\n",
              "    }\n",
              "\n",
              "    .colab-df-buttons div {\n",
              "      margin-bottom: 4px;\n",
              "    }\n",
              "\n",
              "    [theme=dark] .colab-df-convert {\n",
              "      background-color: #3B4455;\n",
              "      fill: #D2E3FC;\n",
              "    }\n",
              "\n",
              "    [theme=dark] .colab-df-convert:hover {\n",
              "      background-color: #434B5C;\n",
              "      box-shadow: 0px 1px 3px 1px rgba(0, 0, 0, 0.15);\n",
              "      filter: drop-shadow(0px 1px 2px rgba(0, 0, 0, 0.3));\n",
              "      fill: #FFFFFF;\n",
              "    }\n",
              "  </style>\n",
              "\n",
              "    <script>\n",
              "      const buttonEl =\n",
              "        document.querySelector('#df-dece0a33-2182-442e-95f1-e527e87963a8 button.colab-df-convert');\n",
              "      buttonEl.style.display =\n",
              "        google.colab.kernel.accessAllowed ? 'block' : 'none';\n",
              "\n",
              "      async function convertToInteractive(key) {\n",
              "        const element = document.querySelector('#df-dece0a33-2182-442e-95f1-e527e87963a8');\n",
              "        const dataTable =\n",
              "          await google.colab.kernel.invokeFunction('convertToInteractive',\n",
              "                                                    [key], {});\n",
              "        if (!dataTable) return;\n",
              "\n",
              "        const docLinkHtml = 'Like what you see? Visit the ' +\n",
              "          '<a target=\"_blank\" href=https://colab.research.google.com/notebooks/data_table.ipynb>data table notebook</a>'\n",
              "          + ' to learn more about interactive tables.';\n",
              "        element.innerHTML = '';\n",
              "        dataTable['output_type'] = 'display_data';\n",
              "        await google.colab.output.renderOutput(dataTable, element);\n",
              "        const docLink = document.createElement('div');\n",
              "        docLink.innerHTML = docLinkHtml;\n",
              "        element.appendChild(docLink);\n",
              "      }\n",
              "    </script>\n",
              "  </div>\n",
              "\n",
              "\n",
              "<div id=\"df-8b57855e-7380-464c-906d-fba7b0715bac\">\n",
              "  <button class=\"colab-df-quickchart\" onclick=\"quickchart('df-8b57855e-7380-464c-906d-fba7b0715bac')\"\n",
              "            title=\"Suggest charts\"\n",
              "            style=\"display:none;\">\n",
              "\n",
              "<svg xmlns=\"http://www.w3.org/2000/svg\" height=\"24px\"viewBox=\"0 0 24 24\"\n",
              "     width=\"24px\">\n",
              "    <g>\n",
              "        <path d=\"M19 3H5c-1.1 0-2 .9-2 2v14c0 1.1.9 2 2 2h14c1.1 0 2-.9 2-2V5c0-1.1-.9-2-2-2zM9 17H7v-7h2v7zm4 0h-2V7h2v10zm4 0h-2v-4h2v4z\"/>\n",
              "    </g>\n",
              "</svg>\n",
              "  </button>\n",
              "\n",
              "<style>\n",
              "  .colab-df-quickchart {\n",
              "      --bg-color: #E8F0FE;\n",
              "      --fill-color: #1967D2;\n",
              "      --hover-bg-color: #E2EBFA;\n",
              "      --hover-fill-color: #174EA6;\n",
              "      --disabled-fill-color: #AAA;\n",
              "      --disabled-bg-color: #DDD;\n",
              "  }\n",
              "\n",
              "  [theme=dark] .colab-df-quickchart {\n",
              "      --bg-color: #3B4455;\n",
              "      --fill-color: #D2E3FC;\n",
              "      --hover-bg-color: #434B5C;\n",
              "      --hover-fill-color: #FFFFFF;\n",
              "      --disabled-bg-color: #3B4455;\n",
              "      --disabled-fill-color: #666;\n",
              "  }\n",
              "\n",
              "  .colab-df-quickchart {\n",
              "    background-color: var(--bg-color);\n",
              "    border: none;\n",
              "    border-radius: 50%;\n",
              "    cursor: pointer;\n",
              "    display: none;\n",
              "    fill: var(--fill-color);\n",
              "    height: 32px;\n",
              "    padding: 0;\n",
              "    width: 32px;\n",
              "  }\n",
              "\n",
              "  .colab-df-quickchart:hover {\n",
              "    background-color: var(--hover-bg-color);\n",
              "    box-shadow: 0 1px 2px rgba(60, 64, 67, 0.3), 0 1px 3px 1px rgba(60, 64, 67, 0.15);\n",
              "    fill: var(--button-hover-fill-color);\n",
              "  }\n",
              "\n",
              "  .colab-df-quickchart-complete:disabled,\n",
              "  .colab-df-quickchart-complete:disabled:hover {\n",
              "    background-color: var(--disabled-bg-color);\n",
              "    fill: var(--disabled-fill-color);\n",
              "    box-shadow: none;\n",
              "  }\n",
              "\n",
              "  .colab-df-spinner {\n",
              "    border: 2px solid var(--fill-color);\n",
              "    border-color: transparent;\n",
              "    border-bottom-color: var(--fill-color);\n",
              "    animation:\n",
              "      spin 1s steps(1) infinite;\n",
              "  }\n",
              "\n",
              "  @keyframes spin {\n",
              "    0% {\n",
              "      border-color: transparent;\n",
              "      border-bottom-color: var(--fill-color);\n",
              "      border-left-color: var(--fill-color);\n",
              "    }\n",
              "    20% {\n",
              "      border-color: transparent;\n",
              "      border-left-color: var(--fill-color);\n",
              "      border-top-color: var(--fill-color);\n",
              "    }\n",
              "    30% {\n",
              "      border-color: transparent;\n",
              "      border-left-color: var(--fill-color);\n",
              "      border-top-color: var(--fill-color);\n",
              "      border-right-color: var(--fill-color);\n",
              "    }\n",
              "    40% {\n",
              "      border-color: transparent;\n",
              "      border-right-color: var(--fill-color);\n",
              "      border-top-color: var(--fill-color);\n",
              "    }\n",
              "    60% {\n",
              "      border-color: transparent;\n",
              "      border-right-color: var(--fill-color);\n",
              "    }\n",
              "    80% {\n",
              "      border-color: transparent;\n",
              "      border-right-color: var(--fill-color);\n",
              "      border-bottom-color: var(--fill-color);\n",
              "    }\n",
              "    90% {\n",
              "      border-color: transparent;\n",
              "      border-bottom-color: var(--fill-color);\n",
              "    }\n",
              "  }\n",
              "</style>\n",
              "\n",
              "  <script>\n",
              "    async function quickchart(key) {\n",
              "      const quickchartButtonEl =\n",
              "        document.querySelector('#' + key + ' button');\n",
              "      quickchartButtonEl.disabled = true;  // To prevent multiple clicks.\n",
              "      quickchartButtonEl.classList.add('colab-df-spinner');\n",
              "      try {\n",
              "        const charts = await google.colab.kernel.invokeFunction(\n",
              "            'suggestCharts', [key], {});\n",
              "      } catch (error) {\n",
              "        console.error('Error during call to suggestCharts:', error);\n",
              "      }\n",
              "      quickchartButtonEl.classList.remove('colab-df-spinner');\n",
              "      quickchartButtonEl.classList.add('colab-df-quickchart-complete');\n",
              "    }\n",
              "    (() => {\n",
              "      let quickchartButtonEl =\n",
              "        document.querySelector('#df-8b57855e-7380-464c-906d-fba7b0715bac button');\n",
              "      quickchartButtonEl.style.display =\n",
              "        google.colab.kernel.accessAllowed ? 'block' : 'none';\n",
              "    })();\n",
              "  </script>\n",
              "</div>\n",
              "    </div>\n",
              "  </div>\n"
            ],
            "text/plain": [
              "   sepal length (cm)  sepal width (cm)  petal length (cm)  petal width (cm)\n",
              "0                5.1               3.5                1.4               0.2\n",
              "1                4.9               3.0                1.4               0.2\n",
              "2                4.7               3.2                1.3               0.2\n",
              "3                4.6               3.1                1.5               0.2\n",
              "4                5.0               3.6                1.4               0.2"
            ]
          },
          "execution_count": 25,
          "metadata": {},
          "output_type": "execute_result"
        }
      ],
      "source": [
        "#iris 데이터 준비하기\n",
        "iris = datasets.load_iris()\n",
        "\n",
        "#판다스 데이터프레임으로 변환\n",
        "Iris = pd.DataFrame(data=iris.data, columns=iris.feature_names)\n",
        "\n",
        "#head()를 이용해 데이터 일부 확인하기\n",
        "iris.head()"
      ]
    },
    {
      "cell_type": "markdown",
      "metadata": {
        "id": "ILSr4NZU3ts1"
      },
      "source": [
        "## 1. k-최근접 이웃 분류기로 확률 예측하기"
      ]
    },
    {
      "cell_type": "code",
      "execution_count": null,
      "metadata": {
        "colab": {
          "base_uri": "https://localhost:8080/"
        },
        "id": "t_0WQ_wWsjFx",
        "outputId": "e3de6538-dacc-4d6b-913a-b8f47371eaf6"
      },
      "outputs": [
        {
          "name": "stdout",
          "output_type": "stream",
          "text": [
            "[0 1 2]\n"
          ]
        }
      ],
      "source": [
        "#iris 타겟값 지정\n",
        "Iris['target'] = iris.target\n",
        "\n",
        "#unique() - iris 고유값 추출\n",
        "print(pd.unique(Iris['target']))"
      ]
    },
    {
      "cell_type": "code",
      "execution_count": null,
      "metadata": {
        "colab": {
          "base_uri": "https://localhost:8080/"
        },
        "id": "nlNaA-WZ30xW",
        "outputId": "b3bd4585-2a73-4e91-c72e-9295990ea055"
      },
      "outputs": [
        {
          "name": "stdout",
          "output_type": "stream",
          "text": [
            "['setosa' 'versicolor' 'virginica']\n"
          ]
        }
      ],
      "source": [
        "#0.0, 1.0, 2.0으로 표현된 label을 문자열로 매핑\n",
        "Iris['target'] = Iris['target'].map({0:\"setosa\", 1:\"versicolor\", 2:\"virginica\"})\n",
        "print(pd.unique(Iris['target']))"
      ]
    },
    {
      "cell_type": "code",
      "execution_count": null,
      "metadata": {
        "id": "DxZmUwWRvjhs"
      },
      "outputs": [],
      "source": [
        "#타깃 데이터와 훈련 데이터 만들기\n",
        "iris_input = Iris[['sepal length (cm)', 'sepal width (cm)', 'petal length (cm)', 'petal width (cm)']].to_numpy()\n",
        "iris_target = Iris['target'].to_numpy()\n",
        "\n",
        "#훈련 데이터와 타깃 데이터 나누기\n",
        "from sklearn.model_selection import train_test_split\n",
        "train_input, test_input, train_target, test_target = train_test_split(\n",
        "    iris_input, iris_target, random_state = 42)\n",
        "\n",
        "#표준화 전처리\n",
        "ss = StandardScaler()\n",
        "ss.fit(train_input)\n",
        "train_scaled = ss.transform(train_input)\n",
        "test_scaled = ss.transform(test_input)"
      ]
    },
    {
      "cell_type": "code",
      "execution_count": null,
      "metadata": {
        "colab": {
          "base_uri": "https://localhost:8080/"
        },
        "id": "6kLt4W6kwaKc",
        "outputId": "29177ed4-0b1d-41e7-df5d-0a5159103095"
      },
      "outputs": [
        {
          "name": "stdout",
          "output_type": "stream",
          "text": [
            "0.9464285714285714\n",
            "1.0\n"
          ]
        }
      ],
      "source": [
        "#클래스 임포트\n",
        "from sklearn.neighbors import KNeighborsClassifier\n",
        "\n",
        "#이웃 개수가 3개인 객체 생성\n",
        "kn = KNeighborsClassifier(n_neighbors=3)\n",
        "\n",
        "#훈련 데이터 학습\n",
        "kn.fit(train_scaled, train_target)\n",
        "\n",
        "#훈련 점수 출력\n",
        "print(kn.score(train_scaled, train_target))\n",
        "\n",
        "#테스트 점수 출력\n",
        "print(kn.score(test_scaled, test_target))"
      ]
    },
    {
      "cell_type": "code",
      "execution_count": null,
      "metadata": {
        "colab": {
          "base_uri": "https://localhost:8080/"
        },
        "id": "hz51B2Qu4tS0",
        "outputId": "2cff610a-2e01-43ff-efe2-74ea99011ff4"
      },
      "outputs": [
        {
          "name": "stdout",
          "output_type": "stream",
          "text": [
            "['setosa' 'versicolor' 'virginica']\n"
          ]
        }
      ],
      "source": [
        "#classes_ 속성에 저장된 타깃값 출력\n",
        "print(kn.classes_)"
      ]
    },
    {
      "cell_type": "code",
      "execution_count": null,
      "metadata": {
        "colab": {
          "base_uri": "https://localhost:8080/"
        },
        "id": "7XfZdDtP4xVW",
        "outputId": "76c75843-a000-44ef-ad80-050d6590dd0a"
      },
      "outputs": [
        {
          "name": "stdout",
          "output_type": "stream",
          "text": [
            "['versicolor' 'setosa' 'virginica' 'versicolor' 'versicolor']\n"
          ]
        }
      ],
      "source": [
        "#처음 5개 샘플의 타깃값 예측\n",
        "print(kn.predict())"
      ]
    },
    {
      "cell_type": "code",
      "execution_count": null,
      "metadata": {
        "colab": {
          "base_uri": "https://localhost:8080/"
        },
        "id": "othmoV6M42fn",
        "outputId": "1f000d0d-86bb-4653-a0c4-41b1db8d25da"
      },
      "outputs": [
        {
          "name": "stdout",
          "output_type": "stream",
          "text": [
            "[[0. 1. 0.]\n",
            " [1. 0. 0.]\n",
            " [0. 0. 1.]\n",
            " [0. 1. 0.]\n",
            " [0. 1. 0.]]\n"
          ]
        }
      ],
      "source": [
        "# predict_proba() 메서드를 사용하여 클래스별 확률값을 반환합니다.\n",
        "proba = kn.predict_proba(test_scaled[:5])\n",
        "print(proba)"
      ]
    },
    {
      "cell_type": "markdown",
      "metadata": {
        "id": "FSNmDKiQw4Aj"
      },
      "source": [
        "## 2.로지스틱 회귀로 이진 분류 수행하기"
      ]
    },
    {
      "cell_type": "markdown",
      "metadata": {
        "id": "RN_-hQ_exhsW"
      },
      "source": [
        "**(1) 로지스틱 함수(시그모이드 함수) 그리기**"
      ]
    },
    {
      "cell_type": "code",
      "execution_count": 1,
      "metadata": {
        "colab": {
          "base_uri": "https://localhost:8080/",
          "height": 430
        },
        "id": "77Em6sM7xEnC",
        "outputId": "9740c4a1-8cfa-4cd8-8cee-bbf8b351fd01"
      },
      "outputs": [
        {
          "ename": "NameError",
          "evalue": "name 'np' is not defined",
          "output_type": "error",
          "traceback": [
            "\u001b[0;31m---------------------------------------------------------------------------\u001b[0m",
            "\u001b[0;31mNameError\u001b[0m                                 Traceback (most recent call last)",
            "\u001b[1;32m/Users/leeeunda/Desktop/CODINg/KHUDA/KHUDA_ML_세션_3주차.ipynb 셀 16\u001b[0m line \u001b[0;36m2\n\u001b[1;32m      <a href='vscode-notebook-cell:/Users/leeeunda/Desktop/CODINg/KHUDA/KHUDA_ML_%E1%84%89%E1%85%A6%E1%84%89%E1%85%A7%E1%86%AB_3%E1%84%8C%E1%85%AE%E1%84%8E%E1%85%A1.ipynb#X21sZmlsZQ%3D%3D?line=0'>1</a>\u001b[0m \u001b[39m#-5와 5 ㅡ사이에 0.1 간격으로 z 배열 만들기\u001b[39;00m\n\u001b[0;32m----> <a href='vscode-notebook-cell:/Users/leeeunda/Desktop/CODINg/KHUDA/KHUDA_ML_%E1%84%89%E1%85%A6%E1%84%89%E1%85%A7%E1%86%AB_3%E1%84%8C%E1%85%AE%E1%84%8E%E1%85%A1.ipynb#X21sZmlsZQ%3D%3D?line=1'>2</a>\u001b[0m z \u001b[39m=\u001b[39m np\u001b[39m.\u001b[39marange(\u001b[39m-\u001b[39m\u001b[39m5\u001b[39m, \u001b[39m5.1\u001b[39m, \u001b[39m0.1\u001b[39m)\n\u001b[1;32m      <a href='vscode-notebook-cell:/Users/leeeunda/Desktop/CODINg/KHUDA/KHUDA_ML_%E1%84%89%E1%85%A6%E1%84%89%E1%85%A7%E1%86%AB_3%E1%84%8C%E1%85%AE%E1%84%8E%E1%85%A1.ipynb#X21sZmlsZQ%3D%3D?line=3'>4</a>\u001b[0m \u001b[39m#exp() - 지수 함수 계산\u001b[39;00m\n\u001b[1;32m      <a href='vscode-notebook-cell:/Users/leeeunda/Desktop/CODINg/KHUDA/KHUDA_ML_%E1%84%89%E1%85%A6%E1%84%89%E1%85%A7%E1%86%AB_3%E1%84%8C%E1%85%AE%E1%84%8E%E1%85%A1.ipynb#X21sZmlsZQ%3D%3D?line=4'>5</a>\u001b[0m phi \u001b[39m=\u001b[39m \u001b[39m1\u001b[39m \u001b[39m/\u001b[39m (\u001b[39m1\u001b[39m \u001b[39m+\u001b[39m np\u001b[39m.\u001b[39mexp(\u001b[39m-\u001b[39mz))\n",
            "\u001b[0;31mNameError\u001b[0m: name 'np' is not defined"
          ]
        }
      ],
      "source": [
        "#-5와 5 ㅡ사이에 0.1 간격으로 z 배열 만들기\n",
        "z = np.arange(-5, 5.1, 0.1)\n",
        "\n",
        "#exp() - 지수 함수 계산\n",
        "phi = 1 / (1 + np.exp(-z))\n",
        "\n",
        "#파이 = y축 / z = x축\n",
        "plt.plot(z, phi)\n",
        "plt.show()"
      ]
    },
    {
      "cell_type": "markdown",
      "metadata": {
        "id": "Wi2Me1Pq6TNF"
      },
      "source": [
        "**(2) 불리언 언덱싱** : 이진 분류 데이터 만들기"
      ]
    },
    {
      "cell_type": "code",
      "execution_count": null,
      "metadata": {
        "id": "opAsdLJ359Lf"
      },
      "outputs": [],
      "source": [
        "'''\n",
        "불리언 언덱싱을 사용하여 'setosa' 'virginica' 클래스만 추출합니다.\n",
        "\n",
        "[ 불리언 언덱싱 ]\n",
        "char_arr = np.array(['A','B','C','D','E'])\n",
        "print(char_arr[[True, False, True, False, False]])\n",
        "# 출력값 : ['A' 'C']\n",
        "'''\n",
        "#연산자 OR(|) 이용해 비교식 만들기\n",
        "setosa_virginica_indexes = (train_target == 'setosa') | (train_target == 'virginica')\n",
        "\n",
        "train_setosa_virginica = train_data[setosa_virginica_indexes]\n",
        "target_setosa_virginica = train_target[setosa_virginica_indexes]"
      ]
    },
    {
      "cell_type": "code",
      "execution_count": null,
      "metadata": {
        "colab": {
          "base_uri": "https://localhost:8080/"
        },
        "id": "4W2Ac53z6fca",
        "outputId": "4759a989-300b-491c-de01-be0ede72cb3a"
      },
      "outputs": [
        {
          "name": "stdout",
          "output_type": "stream",
          "text": [
            "[[0.98893001 0.01106999]\n",
            " [0.99436886 0.00563114]\n",
            " [0.02427132 0.97572868]\n",
            " [0.98620647 0.01379353]\n",
            " [0.98473316 0.01526684]]\n"
          ]
        }
      ],
      "source": [
        "# 사이킷런의 선형모델 LogisticRegression 임포트\n",
        "from sklearn.linear_model import LogisticRegression\n",
        "\n",
        "#객체 생성\n",
        "lr = LogisticRegression()\n",
        "#모델 훈련\n",
        "lr.fit(train_setosa_virginica, target_setosa_virginica)\n",
        "\n",
        "#5개의 샘플(행) 출력\n",
        "print(lr.predict(train_setosa_virginica[:5]))"
      ]
    },
    {
      "cell_type": "code",
      "execution_count": null,
      "metadata": {
        "colab": {
          "base_uri": "https://localhost:8080/"
        },
        "id": "PIUtIUC_6j6h",
        "outputId": "202b172b-2b7d-443d-a47d-758a1d4518af"
      },
      "outputs": [
        {
          "name": "stdout",
          "output_type": "stream",
          "text": [
            "['setosa' 'virginica']\n",
            "[[ 0.8228674  -0.67792496  1.34488939  1.35627503]] [0.93908071]\n"
          ]
        }
      ],
      "source": [
        "# classes_ 속성으로 이진 분류 클래스 확인하기\n",
        "print(lr.classes_)\n",
        "\n",
        "#로지스틱 회귀가 학습한 계수 확인\n",
        "print(lr.coef_, lr.intercept_)"
      ]
    },
    {
      "cell_type": "markdown",
      "metadata": {
        "id": "3I40qAKR76e6"
      },
      "source": [
        "앞서 구한 5개의 샘플의 확률이 각각 **첫 번째 열 : setosa / 두 번째 열 : virginica**에 대한 확률을 알 수 있습니다."
      ]
    },
    {
      "cell_type": "code",
      "execution_count": null,
      "metadata": {
        "colab": {
          "base_uri": "https://localhost:8080/"
        },
        "id": "cTbYsTfJ6578",
        "outputId": "c1268d8a-ba5f-4261-b022-0119f828257d"
      },
      "outputs": [
        {
          "name": "stdout",
          "output_type": "stream",
          "text": [
            "[-4.49238573 -5.17379545  3.69388916 -4.26966585 -4.16668744]\n"
          ]
        }
      ],
      "source": [
        "# LogisticRegression 모델로 z값 계산하기\n",
        "'''\n",
        "decision_function() 메서드 사용하여 z값을 계산합니다.\n",
        "'''\n",
        "decisions = lr.decision_function(train_setosa_virginica[:5])\n",
        "print(decisions)"
      ]
    },
    {
      "cell_type": "code",
      "execution_count": null,
      "metadata": {
        "colab": {
          "base_uri": "https://localhost:8080/"
        },
        "id": "Denj_Il57JUD",
        "outputId": "5b8ba2fa-33a0-4916-b0b3-598567bac9e8"
      },
      "outputs": [
        {
          "name": "stdout",
          "output_type": "stream",
          "text": [
            "[0.01106999 0.00563114 0.97572868 0.01379353 0.01526684]\n"
          ]
        }
      ],
      "source": [
        "'''\n",
        "expit() 메서드를 사용하여 도출된 z값을 시그모이드 함수에 통과시킵니다.\n",
        "'''\n",
        "from scipy.special import expit\n",
        "print(expit(decisions))"
      ]
    },
    {
      "cell_type": "markdown",
      "metadata": {
        "id": "E3I79JqR8S8c"
      },
      "source": [
        "## 3.로지스틱 회귀로 다중 분류 수행하기"
      ]
    },
    {
      "cell_type": "code",
      "execution_count": null,
      "metadata": {
        "colab": {
          "base_uri": "https://localhost:8080/"
        },
        "id": "JLQXNhIk8V33",
        "outputId": "40ab367b-f3ec-47a7-97b0-d10200d0893f"
      },
      "outputs": [
        {
          "name": "stdout",
          "output_type": "stream",
          "text": [
            "0.9821428571428571\n",
            "1.0\n"
          ]
        }
      ],
      "source": [
        "#max_iter = 1000(for 충분한 훈련) / C = 20 설정\n",
        "lr = LogisticRegression(C=20, max_iter = 1000)\n",
        "#모델 학습\n",
        "'''\n",
        "타겟을 2개로 분리하기 이전의 iris 데이터입니다.\n",
        "'''\n",
        "lr.fit(train_scaled, train_target)\n",
        "\n",
        "#훈련 세트와 테스트 세트의 점수 출력하기\n",
        "print(lr.score(train_scaled, train_target))\n",
        "print(lr.score(test_scaled, test_target))"
      ]
    },
    {
      "cell_type": "code",
      "execution_count": null,
      "metadata": {
        "colab": {
          "base_uri": "https://localhost:8080/"
        },
        "id": "bU4eiR6B9QsM",
        "outputId": "0316321c-ac30-40fd-8474-a269087bfaa3"
      },
      "outputs": [
        {
          "name": "stdout",
          "output_type": "stream",
          "text": [
            "['versicolor' 'setosa' 'virginica' 'versicolor' 'versicolor']\n"
          ]
        }
      ],
      "source": [
        "#테스트 세트의 처음 5개의 샘플에 대한 예측\n",
        "print(lr.predict(test_scaled[:5]))"
      ]
    },
    {
      "cell_type": "code",
      "execution_count": null,
      "metadata": {
        "colab": {
          "base_uri": "https://localhost:8080/"
        },
        "id": "RjV7mfHQ9VAf",
        "outputId": "9b83e0fb-be67-4718-9c50-c0fc8f2a0768"
      },
      "outputs": [
        {
          "name": "stdout",
          "output_type": "stream",
          "text": [
            "[[0.    0.99  0.01 ]\n",
            " [0.995 0.005 0.   ]\n",
            " [0.    0.    1.   ]\n",
            " [0.    0.955 0.044]\n",
            " [0.    0.959 0.041]]\n"
          ]
        }
      ],
      "source": [
        "proba = lr.predict_proba(test_scaled[:5])\n",
        "print(np.round(proba, decimals=3)) #소수점 네 번재 자리 반올림"
      ]
    },
    {
      "cell_type": "code",
      "execution_count": null,
      "metadata": {
        "colab": {
          "base_uri": "https://localhost:8080/"
        },
        "id": "_4FgvLry9dV1",
        "outputId": "f6644e7e-94be-4672-b603-6ba6a2e26b0e"
      },
      "outputs": [
        {
          "name": "stdout",
          "output_type": "stream",
          "text": [
            "['setosa' 'versicolor' 'virginica']\n",
            "[[0.    0.99  0.01 ]\n",
            " [0.995 0.005 0.   ]\n",
            " [0.    0.    1.   ]\n",
            " [0.    0.955 0.044]\n",
            " [0.    0.959 0.041]]\n"
          ]
        }
      ],
      "source": [
        "# 클래스 정보 확인\n",
        "print(lr.classes_)\n",
        "\n",
        "#확률 출력\n",
        "print(np.round(proba, decimals = 3))"
      ]
    },
    {
      "cell_type": "markdown",
      "metadata": {
        "id": "Mva4IVzO-JOC"
      },
      "source": [
        "## 4. 소프트맥스 함수로 다중 분류 확률 계산하기"
      ]
    },
    {
      "cell_type": "markdown",
      "metadata": {
        "id": "LHoVXU0F9l1K"
      },
      "source": [
        "다중 분류는 소프트맥스 함수를 사용하여 여러 개의 선형 방정식을 0~1 사이로 압축하고, 전체 합이 1이 되도록 만듭니다."
      ]
    },
    {
      "cell_type": "code",
      "execution_count": null,
      "metadata": {
        "colab": {
          "base_uri": "https://localhost:8080/"
        },
        "id": "T5vshi1N9zqN",
        "outputId": "8e4e605f-e367-4a6f-804f-d27cd81a57dc"
      },
      "outputs": [
        {
          "name": "stdout",
          "output_type": "stream",
          "text": [
            "[[ -3.83   4.21  -0.38]\n",
            " [ 13.07   7.84 -20.92]\n",
            " [-18.64   2.58  16.06]\n",
            " [ -4.19   3.63   0.56]\n",
            " [ -6.52   4.84   1.68]]\n"
          ]
        }
      ],
      "source": [
        "#테스트 세트의 처음 5개의 샘플에 대한 z1~z7 값 구하기\n",
        "decision = lr.decision_function(test_data[:5])\n",
        "print(np.round(decision, decimals = 2))"
      ]
    },
    {
      "cell_type": "code",
      "execution_count": null,
      "metadata": {
        "colab": {
          "base_uri": "https://localhost:8080/"
        },
        "id": "GBKXnGaJ93rJ",
        "outputId": "3b38698b-cf0c-45ae-d11e-55f5b6164feb"
      },
      "outputs": [
        {
          "name": "stdout",
          "output_type": "stream",
          "text": [
            "[[0.    0.99  0.01 ]\n",
            " [0.995 0.005 0.   ]\n",
            " [0.    0.    1.   ]\n",
            " [0.    0.955 0.044]\n",
            " [0.    0.959 0.041]]\n"
          ]
        }
      ],
      "source": [
        "from scipy.special import softmax\n",
        "#decison 배열 softmax() 함수에 전달\n",
        "proba = softmax(decision, axis=1)\n",
        "'''\n",
        "axis : 소프트맥스의 계산 축\n",
        "axis = 1 : 각 샘플에 대해 소프트맥스 계산\n",
        "cf) axis 지정 X : 배열 전체에 대해 소프트맥스 계산.\n",
        "'''\n",
        "print(np.round(proba, decimals = 3))"
      ]
    },
    {
      "cell_type": "markdown",
      "metadata": {
        "id": "mm3ncgT5-knV"
      },
      "source": [
        "## 5. 확률적 경사 하강법"
      ]
    },
    {
      "cell_type": "code",
      "execution_count": null,
      "metadata": {
        "id": "CiuBD3uCuczl"
      },
      "outputs": [],
      "source": [
        "# 당뇨 데이터 csv 불러오기\n",
        "Diabete = pd.read_csv('https://raw.githubusercontent.com/YBI-Foundation/Dataset/main/Diabetes.csv')\n",
        "\n",
        "# head()를 통해 자료 확인해보기\n",
        "Diabete.head()"
      ]
    },
    {
      "cell_type": "code",
      "execution_count": null,
      "metadata": {
        "id": "E-N593yU_7uJ"
      },
      "outputs": [],
      "source": [
        "# 원하는 열을 골라 넘파이 리스트로 변환하기\n",
        "diabete_input = Diabete[['pregnancies', 'glucose', 'diastolic', 'triceps', 'insulin', 'bmi', 'dpf', 'age']].to_numpy()\n",
        "diabete_target = Diabete[''].to_numpy()"
      ]
    },
    {
      "cell_type": "code",
      "execution_count": null,
      "metadata": {
        "id": "yq2quH7r_-si"
      },
      "outputs": [],
      "source": [
        "# 훈련 세트와 테스트 세트 나누기\n",
        "train_input, test_input, train_target, test_target = train_test_split(\n",
        "    diabete_input, diabete_target, random_state=42)"
      ]
    },
    {
      "cell_type": "code",
      "execution_count": null,
      "metadata": {
        "id": "1eGoa64TABsa"
      },
      "outputs": [],
      "source": [
        "# 정규화 작업\n",
        "ss = StandardScaler()\n",
        "ss.fit(train_input)\n",
        "train_scaled = ss.transform(train_input)\n",
        "test_scaled = ss.transform(test_input)"
      ]
    },
    {
      "cell_type": "code",
      "execution_count": null,
      "metadata": {
        "id": "znQzIQGKADJM"
      },
      "outputs": [],
      "source": [
        "# SGDClassifier 활용\n",
        "\n",
        "# 효과적으로 이진분류를 하기 위해 손실함수를 로그함수로 지정\n",
        "sc = SGDClassifier(loss='log', max_iter=10, random_state=42)\n",
        "sc.fit(train_scaled, train_target)"
      ]
    },
    {
      "cell_type": "code",
      "execution_count": null,
      "metadata": {
        "id": "fdcQqUIKAFoZ"
      },
      "outputs": [],
      "source": [
        "# 훈련 세트와 테스트 세트 평가 결과 출력하기\n",
        "print(sc.score(train_scaled, train_target))\n",
        "print(sc.score(test_scaled, test_target))"
      ]
    },
    {
      "cell_type": "markdown",
      "metadata": {
        "id": "wMxX-2-JAKi4"
      },
      "source": [
        "\n",
        "\n",
        "> 에포크 과대/과소적합\n",
        "\n"
      ]
    },
    {
      "cell_type": "code",
      "execution_count": null,
      "metadata": {
        "id": "xJgVmpzsAQxC"
      },
      "outputs": [],
      "source": [
        "sc = SGDClassifier(loss='log', random_state=42)\n",
        "train_score = []\n",
        "test_score = []\n",
        "classes = np.unique(train_target)"
      ]
    },
    {
      "cell_type": "code",
      "execution_count": null,
      "metadata": {
        "id": "3sdJTP_oAStf"
      },
      "outputs": [],
      "source": [
        "for _ in range (0, 200) :\n",
        "  sc.partial_fit(train_scaled, train_target, classes=classes)\n",
        "\n",
        "  # 위에서 만든 스코어 배열에 각각 점수 추가하기\n",
        "  train_score.append(sc.score(train_scaled, train_target))\n",
        "  train_scofe.append(sc.score(test_scaled, test_target))"
      ]
    },
    {
      "cell_type": "markdown",
      "metadata": {
        "id": "xR6c8XSPBJq3"
      },
      "source": [
        "partial_fit 메서드는 데이터의 일부로 훈련하기 때문에 전달된 타깃 배열에 전체 클래스가 모두 포함되어 있다하기 힘듦.\n",
        "\n",
        "따라서, 'classes = classes' 매개변수를 통해 클래스 정보를 별도로 전달해 줌"
      ]
    },
    {
      "cell_type": "code",
      "execution_count": null,
      "metadata": {
        "id": "5iEWdh4eBBZh"
      },
      "outputs": [],
      "source": [
        "# 위에서 추가한 두 배열을 그래프로 시각화하기\n",
        "plt.plot(train_score)\n",
        "plt.plot(test_score)\n",
        "plt.show()"
      ]
    },
    {
      "cell_type": "code",
      "execution_count": null,
      "metadata": {
        "id": "vsDpn_k6BDtI"
      },
      "outputs": [],
      "source": [
        "# 위 그래프에서 적절한 에포크 지수는 60이라고 판단\n",
        "# 그래프를 통해 찾은 적절한 에포크 지수로 다시 학습시키기\n",
        "sc = SGDClassifier(loss='log', max_iter=60, tol=None, random_state=42)\n",
        "sc.fit(train_scaled, train_target)"
      ]
    },
    {
      "cell_type": "code",
      "execution_count": null,
      "metadata": {
        "id": "eCmQO2MuBFo2"
      },
      "outputs": [],
      "source": [
        "# 훈련 세트와 테스트 세트 평가 결과 출력하기\n",
        "print(sc.score(train_scaled, train_target))\n",
        "print(sc.score(test_scaled, test_target))"
      ]
    }
  ],
  "metadata": {
    "colab": {
      "provenance": []
    },
    "kernelspec": {
      "display_name": "Python 3",
      "name": "python3"
    },
    "language_info": {
      "codemirror_mode": {
        "name": "ipython",
        "version": 3
      },
      "file_extension": ".py",
      "mimetype": "text/x-python",
      "name": "python",
      "nbconvert_exporter": "python",
      "pygments_lexer": "ipython3",
      "version": "3.11.5"
    }
  },
  "nbformat": 4,
  "nbformat_minor": 0
}
